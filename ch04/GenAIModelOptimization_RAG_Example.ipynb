{
 "cells": [
  {
   "cell_type": "code",
   "execution_count": null,
   "id": "10c1f7b9",
   "metadata": {
    "colab": {
     "base_uri": "https://localhost:8080/"
    },
    "executionInfo": {
     "elapsed": 28653,
     "status": "ok",
     "timestamp": 1725493317366,
     "user": {
      "displayName": "Sukirti Gupta",
      "userId": "18323005503787477156"
     },
     "user_tz": 420
    },
    "height": 30,
    "id": "10c1f7b9",
    "outputId": "183bd2bf-4bb4-4988-f426-4ee707468024"
   },
   "outputs": [],
   "source": [
    "!pip install langchain openAI langchain-community docarray tiktoken"
   ]
  },
  {
   "cell_type": "code",
   "execution_count": null,
   "id": "974acf8e-8f88-42de-88f8-40a82cb58e8b",
   "metadata": {
    "executionInfo": {
     "elapsed": 1363,
     "status": "ok",
     "timestamp": 1725493368771,
     "user": {
      "displayName": "Sukirti Gupta",
      "userId": "18323005503787477156"
     },
     "user_tz": 420
    },
    "height": 115,
    "id": "974acf8e-8f88-42de-88f8-40a82cb58e8b"
   },
   "outputs": [],
   "source": [
    "from langchain.chat_models import ChatOpenAI\n",
    "from langchain.document_loaders import CSVLoader\n",
    "from langchain.vectorstores import DocArrayInMemorySearch\n",
    "from IPython.display import display, Markdown\n",
    "from langchain.llms import OpenAI"
   ]
  },
  {
   "cell_type": "code",
   "execution_count": null,
   "id": "MfRfabCUKjPB",
   "metadata": {
    "colab": {
     "base_uri": "https://localhost:8080/"
    },
    "executionInfo": {
     "elapsed": 21614,
     "status": "ok",
     "timestamp": 1725493404146,
     "user": {
      "displayName": "Sukirti Gupta",
      "userId": "18323005503787477156"
     },
     "user_tz": 420
    },
    "id": "MfRfabCUKjPB",
    "outputId": "4fbbaac6-324d-47bd-cc9c-aab8c65be8bb"
   },
   "outputs": [],
   "source": [
    "import pandas as pd\n",
    "# Read the original CSV file\n",
    "from google.colab import drive\n",
    "drive.mount('/content/drive')\n",
    "df = pd.read_csv('/content/drive/MyDrive/myntra_products_catalog.csv')\n",
    "df.to_csv('processed_file.csv', index=False)\n",
    "from langchain.document_loaders import CSVLoader\n",
    "loader = CSVLoader(file_path='processed_file.csv')\n",
    "documents = loader.load()"
   ]
  },
  {
   "cell_type": "code",
   "execution_count": null,
   "id": "q9BHT82qjg_d",
   "metadata": {
    "colab": {
     "base_uri": "https://localhost:8080/"
    },
    "executionInfo": {
     "elapsed": 4607,
     "status": "ok",
     "timestamp": 1725493646643,
     "user": {
      "displayName": "Sukirti Gupta",
      "userId": "18323005503787477156"
     },
     "user_tz": 420
    },
    "id": "q9BHT82qjg_d",
    "outputId": "322f4133-c7f7-4591-df58-e35b06d3a8d7"
   },
   "outputs": [],
   "source": [
    "!pip install langchain-openai openai\n",
    "from langchain_openai import OpenAIEmbeddings\n",
    "import openai\n",
    "openai.api_key = \"<openAI_API_Key>\"\n",
    "\n",
    "# Initialize OpenAIEmbeddings (ensure that the API key is configured)\n",
    "embeddings = OpenAIEmbeddings(openai_api_key=openai.api_key)\n"
   ]
  },
  {
   "cell_type": "code",
   "execution_count": null,
   "id": "779bec75",
   "metadata": {
    "colab": {
     "base_uri": "https://localhost:8080/"
    },
    "executionInfo": {
     "elapsed": 4442,
     "status": "ok",
     "timestamp": 1725493755219,
     "user": {
      "displayName": "Sukirti Gupta",
      "userId": "18323005503787477156"
     },
     "user_tz": 420
    },
    "height": 30,
    "id": "779bec75",
    "outputId": "d69dfa48-afe8-4452-adbb-f798096a5331"
   },
   "outputs": [],
   "source": [
    "embed = embeddings.embed_query(\"Apple\")\n",
    "print(f\"Dimensionlaity of these embeddings are {len(embed)}\")\n"
   ]
  },
  {
   "cell_type": "code",
   "execution_count": null,
   "id": "27ad0bb0",
   "metadata": {
    "colab": {
     "base_uri": "https://localhost:8080/"
    },
    "executionInfo": {
     "elapsed": 101639,
     "status": "ok",
     "timestamp": 1725493912654,
     "user": {
      "displayName": "Sukirti Gupta",
      "userId": "18323005503787477156"
     },
     "user_tz": 420
    },
    "height": 81,
    "id": "27ad0bb0",
    "outputId": "61d3f963-2101-493d-b00c-2beee44e32e9"
   },
   "outputs": [],
   "source": [
    "db = DocArrayInMemorySearch.from_documents(\n",
    "    documents,\n",
    "    embeddings\n",
    ")"
   ]
  },
  {
   "cell_type": "code",
   "execution_count": null,
   "id": "0329bfd5",
   "metadata": {
    "executionInfo": {
     "elapsed": 1001,
     "status": "ok",
     "timestamp": 1725493921210,
     "user": {
      "displayName": "Sukirti Gupta",
      "userId": "18323005503787477156"
     },
     "user_tz": 420
    },
    "height": 30,
    "id": "0329bfd5"
   },
   "outputs": [],
   "source": [
    "query = \"Shirts which are good for Men, have regular fit and not the slim fit and can be used for a Formal occasions and have a color of either Blue or white\"\n",
    "docs = db.similarity_search(query, k=5)"
   ]
  },
  {
   "cell_type": "code",
   "execution_count": null,
   "id": "6eba90b5",
   "metadata": {
    "colab": {
     "base_uri": "https://localhost:8080/"
    },
    "executionInfo": {
     "elapsed": 326,
     "status": "ok",
     "timestamp": 1725493924059,
     "user": {
      "displayName": "Sukirti Gupta",
      "userId": "18323005503787477156"
     },
     "user_tz": 420
    },
    "height": 30,
    "id": "6eba90b5",
    "outputId": "ee43d240-ff51-4e0a-9fa5-5b24f59d0276"
   },
   "outputs": [],
   "source": [
    "docs[0:5]"
   ]
  },
  {
   "cell_type": "code",
   "execution_count": null,
   "id": "0625f5e8",
   "metadata": {
    "colab": {
     "base_uri": "https://localhost:8080/"
    },
    "executionInfo": {
     "elapsed": 3687,
     "status": "ok",
     "timestamp": 1725494037742,
     "user": {
      "displayName": "Sukirti Gupta",
      "userId": "18323005503787477156"
     },
     "user_tz": 420
    },
    "height": 30,
    "id": "0625f5e8",
    "outputId": "0620752c-0121-4129-9778-ac05260d575c"
   },
   "outputs": [],
   "source": [
    "llm_model = \"gpt-3.5-turbo\"\n",
    "!pip install -U langchain-openai\n",
    "from langchain_openai import ChatOpenAI\n",
    "llm = ChatOpenAI(model=llm_model, openai_api_key=\"<openAI_API_Key>\")\n"
   ]
  },
  {
   "cell_type": "code",
   "execution_count": null,
   "id": "a573f58a",
   "metadata": {
    "colab": {
     "base_uri": "https://localhost:8080/"
    },
    "executionInfo": {
     "elapsed": 329,
     "status": "ok",
     "timestamp": 1725494086677,
     "user": {
      "displayName": "Sukirti Gupta",
      "userId": "18323005503787477156"
     },
     "user_tz": 420
    },
    "height": 47,
    "id": "a573f58a",
    "outputId": "a34201b1-2a7f-4298-bab2-d6804d5a6203"
   },
   "outputs": [],
   "source": [
    "qdocs = \".\".join([docs[i].page_content for i in range(len(docs))])\n",
    "print (qdocs)\n"
   ]
  },
  {
   "cell_type": "code",
   "execution_count": null,
   "id": "14682d95",
   "metadata": {
    "colab": {
     "base_uri": "https://localhost:8080/"
    },
    "executionInfo": {
     "elapsed": 5119,
     "status": "ok",
     "timestamp": 1725494105997,
     "user": {
      "displayName": "Sukirti Gupta",
      "userId": "18323005503787477156"
     },
     "user_tz": 420
    },
    "height": 80,
    "id": "14682d95",
    "outputId": "822c82c2-964e-472c-b379-60c4631ee73c"
   },
   "outputs": [],
   "source": [
    "response = llm.call_as_llm(f\"{qdocs} Question: please summarize results in a nice summary table and then summarize each one in one line and finally recommend the one with good reasons.-{query}\")"
   ]
  },
  {
   "cell_type": "code",
   "execution_count": null,
   "id": "8bba545b",
   "metadata": {
    "colab": {
     "base_uri": "https://localhost:8080/",
     "height": 361
    },
    "executionInfo": {
     "elapsed": 320,
     "status": "ok",
     "timestamp": 1725494135498,
     "user": {
      "displayName": "Sukirti Gupta",
      "userId": "18323005503787477156"
     },
     "user_tz": 420
    },
    "height": 30,
    "id": "8bba545b",
    "outputId": "6b46706c-d093-449a-bf2a-60fb6a12f43a"
   },
   "outputs": [],
   "source": [
    "display(Markdown(response))"
   ]
  },
  {
   "cell_type": "code",
   "execution_count": null,
   "id": "b2cb587c",
   "metadata": {
    "executionInfo": {
     "elapsed": 5434,
     "status": "ok",
     "timestamp": 1725494211187,
     "user": {
      "displayName": "Sukirti Gupta",
      "userId": "18323005503787477156"
     },
     "user_tz": 420
    },
    "height": 30,
    "id": "b2cb587c"
   },
   "outputs": [],
   "source": [
    "response = llm.call_as_llm(f\"{qdocs} Question: summarize results in a nice summary table converting everything to french and then summarize each one in one line and finally recommend the one with good reasons. Respond in french-{query}\")"
   ]
  },
  {
   "cell_type": "code",
   "execution_count": null,
   "id": "1ec249f1",
   "metadata": {
    "colab": {
     "base_uri": "https://localhost:8080/",
     "height": 536
    },
    "executionInfo": {
     "elapsed": 6,
     "status": "ok",
     "timestamp": 1724819325527,
     "user": {
      "displayName": "Sukirti Gupta",
      "userId": "18323005503787477156"
     },
     "user_tz": 420
    },
    "height": 30,
    "id": "1ec249f1",
    "outputId": "dd869c05-d93d-4974-dc4a-5cefeaa65bbe"
   },
   "outputs": [],
   "source": [
    "display(Markdown(response))"
   ]
  },
  {
   "cell_type": "code",
   "execution_count": null,
   "id": "9d64f166",
   "metadata": {
    "executionInfo": {
     "elapsed": 671,
     "status": "ok",
     "timestamp": 1725494577009,
     "user": {
      "displayName": "Sukirti Gupta",
      "userId": "18323005503787477156"
     },
     "user_tz": 420
    },
    "height": 30,
    "id": "9d64f166"
   },
   "outputs": [],
   "source": [
    "query = \"Shirts which are good for Men, have regular fit and not the slim fit and can be used for a Formal occasion and have a color of either Blue or white\"\n",
    "docs = db.similarity_search(query, k=5)"
   ]
  },
  {
   "cell_type": "code",
   "execution_count": null,
   "id": "21322e7e",
   "metadata": {
    "colab": {
     "base_uri": "https://localhost:8080/"
    },
    "executionInfo": {
     "elapsed": 2997,
     "status": "ok",
     "timestamp": 1725494582674,
     "user": {
      "displayName": "Sukirti Gupta",
      "userId": "18323005503787477156"
     },
     "user_tz": 420
    },
    "height": 30,
    "id": "21322e7e",
    "outputId": "4de185cf-93c0-4f5b-bbec-9705f4a17c58"
   },
   "outputs": [],
   "source": [
    "qdocs = \".\".join([docs[i].page_content for i in range(len(docs))])\n",
    "demographics ={\"John\": {'Age':30, 'Education': \"Bachelor’s Degree in Computer Science\", 'Occupation': \"Software Engineer\"}, \"Adam\": {'Age':60, 'Occupation': \"Retired\"}}\n",
    "response = llm.call_as_llm(f\"{qdocs}, Question: Recommend one shirt each for both indivuduals and provide good reasoning {demographics}.-{query}\")\n",
    "print (response)"
   ]
  }
 ],
 "metadata": {
  "colab": {
   "provenance": [
    {
     "file_id": "1XhNKZqijnkYGj-Hqkg5wUDo8bTv3-PPE",
     "timestamp": 1725492342488
    },
    {
     "file_id": "11x5T1EYpFYcE5NulhORpl9YZUOQCgLWj",
     "timestamp": 1724799192912
    }
   ]
  },
  "kernelspec": {
   "display_name": "Python 3",
   "name": "python3"
  },
  "language_info": {
   "codemirror_mode": {
    "name": "ipython",
    "version": 3
   },
   "file_extension": ".py",
   "mimetype": "text/x-python",
   "name": "python",
   "nbconvert_exporter": "python",
   "pygments_lexer": "ipython3",
   "version": "3.9.19"
  }
 },
 "nbformat": 4,
 "nbformat_minor": 5
}
