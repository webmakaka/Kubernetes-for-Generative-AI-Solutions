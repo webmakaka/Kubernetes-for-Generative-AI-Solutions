{
 "cells": [
  {
   "cell_type": "code",
   "execution_count": null,
   "id": "974acf8e-8f88-42de-88f8-40a82cb58e8b",
   "metadata": {
    "colab": {
     "base_uri": "https://localhost:8080/"
    },
    "executionInfo": {
     "elapsed": 22127,
     "status": "ok",
     "timestamp": 1725490412770,
     "user": {
      "displayName": "Sukirti Gupta",
      "userId": "18323005503787477156"
     },
     "user_tz": 420
    },
    "height": 30,
    "id": "974acf8e-8f88-42de-88f8-40a82cb58e8b",
    "outputId": "bbb7577b-f878-4be6-b4c3-16c2875819f4",
    "tags": []
   },
   "outputs": [],
   "source": [
    "!pip install langchain langchain_core langchain_experimental"
   ]
  },
  {
   "cell_type": "code",
   "execution_count": null,
   "id": "7b93d0e8",
   "metadata": {
    "executionInfo": {
     "elapsed": 2458,
     "status": "ok",
     "timestamp": 1725490424174,
     "user": {
      "displayName": "Sukirti Gupta",
      "userId": "18323005503787477156"
     },
     "user_tz": 420
    },
    "height": 115,
    "id": "7b93d0e8",
    "tags": []
   },
   "outputs": [],
   "source": [
    "from langchain_experimental.agents.agent_toolkits import create_python_agent\n",
    "from langchain_experimental.tools.python.tool import PythonREPLTool\n",
    "from langchain.chat_models import ChatOpenAI"
   ]
  },
  {
   "cell_type": "code",
   "execution_count": null,
   "id": "7aadd5c1",
   "metadata": {
    "colab": {
     "base_uri": "https://localhost:8080/"
    },
    "executionInfo": {
     "elapsed": 4787,
     "status": "ok",
     "timestamp": 1725490469143,
     "user": {
      "displayName": "Sukirti Gupta",
      "userId": "18323005503787477156"
     },
     "user_tz": 420
    },
    "height": 30,
    "id": "7aadd5c1",
    "outputId": "77761697-9c8f-4ca4-d52f-01b9deefd7fa",
    "tags": []
   },
   "outputs": [],
   "source": [
    "!pip install openai\n",
    "llm_model = \"gpt-3.5-turbo\"\n",
    "llm = ChatOpenAI(model=llm_model,api_key=\"<your_openai_api_key>\")"
   ]
  },
  {
   "cell_type": "code",
   "execution_count": null,
   "id": "c7617576-d855-4ede-9c1a-be742f1504cf",
   "metadata": {
    "executionInfo": {
     "elapsed": 186,
     "status": "ok",
     "timestamp": 1725490476727,
     "user": {
      "displayName": "Sukirti Gupta",
      "userId": "18323005503787477156"
     },
     "user_tz": 420
    },
    "height": 98,
    "id": "c7617576-d855-4ede-9c1a-be742f1504cf",
    "tags": []
   },
   "outputs": [],
   "source": [
    "agent = create_python_agent(\n",
    "    llm,\n",
    "    tool=PythonREPLTool(),\n",
    "    verbose=False\n",
    ")"
   ]
  },
  {
   "cell_type": "code",
   "execution_count": null,
   "id": "WRyvfYiw0j8f",
   "metadata": {
    "executionInfo": {
     "elapsed": 177,
     "status": "ok",
     "timestamp": 1725490480021,
     "user": {
      "displayName": "Sukirti Gupta",
      "userId": "18323005503787477156"
     },
     "user_tz": 420
    },
    "id": "WRyvfYiw0j8f"
   },
   "outputs": [],
   "source": [
    "fruit_list=[\"Apple\",\"Banana\",\"Apple\",\"Peaches\"]"
   ]
  },
  {
   "cell_type": "code",
   "execution_count": null,
   "id": "KPvCBhuj0ocn",
   "metadata": {
    "colab": {
     "base_uri": "https://localhost:8080/",
     "height": 1000
    },
    "executionInfo": {
     "elapsed": 2289,
     "status": "ok",
     "timestamp": 1725490483373,
     "user": {
      "displayName": "Sukirti Gupta",
      "userId": "18323005503787477156"
     },
     "user_tz": 420
    },
    "id": "KPvCBhuj0ocn",
    "outputId": "b80f6eff-1a09-4f25-ff5c-b46d588697e1"
   },
   "outputs": [],
   "source": [
    "import langchain\n",
    "langchain.debug=True\n",
    "agent.run(f\"\"\"Count how many times a fruit is in this list and list every fruit and the numbers: {fruit_list}\"\"\")"
   ]
  },
  {
   "cell_type": "markdown",
   "id": "74466cec-2d98-438b-805f-33e31fdc3035",
   "metadata": {
    "id": "74466cec-2d98-438b-805f-33e31fdc3035"
   },
   "source": [
    "#### View detailed outputs of the chains"
   ]
  },
  {
   "cell_type": "code",
   "execution_count": null,
   "id": "da13800c",
   "metadata": {
    "colab": {
     "base_uri": "https://localhost:8080/"
    },
    "executionInfo": {
     "elapsed": 154,
     "status": "ok",
     "timestamp": 1725490254436,
     "user": {
      "displayName": "Sukirti Gupta",
      "userId": "18323005503787477156"
     },
     "user_tz": 420
    },
    "height": 30,
    "id": "da13800c",
    "outputId": "22d1b8b4-bd06-4340-dfe5-58c241cbf075"
   },
   "outputs": [],
   "source": [
    "fruits = ['Apple', 'Banana', 'Apple', 'Peaches']\n",
    "fruit_count = {}\n",
    "for fruit in fruits:\n",
    "    if fruit in fruit_count:\n",
    "        fruit_count[fruit] += 1\n",
    "    else:\n",
    "        fruit_count[fruit] = 1\n",
    "print(fruit_count)\n"
   ]
  }
 ],
 "metadata": {
  "colab": {
   "provenance": [
    {
     "file_id": "1DznjMtwGOdrTs5J7ayFESCcWDn4z7Kwu",
     "timestamp": 1725490328933
    }
   ]
  },
  "kernelspec": {
   "display_name": "Python 3 (ipykernel)",
   "language": "python",
   "name": "python3"
  },
  "language_info": {
   "codemirror_mode": {
    "name": "ipython",
    "version": 3
   },
   "file_extension": ".py",
   "mimetype": "text/x-python",
   "name": "python",
   "nbconvert_exporter": "python",
   "pygments_lexer": "ipython3",
   "version": "3.9.17"
  }
 },
 "nbformat": 4,
 "nbformat_minor": 5
}
